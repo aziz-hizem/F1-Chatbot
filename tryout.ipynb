{
 "cells": [
  {
   "cell_type": "code",
   "execution_count": null,
   "metadata": {},
   "outputs": [],
   "source": [
    "from chatbot_F1 import get_championship_winner, get_teams_in_year, get_driver_wins, get_driver_with_most_wins\n",
    "from pydantic import BaseModel\n",
    "import torch\n",
    "from transformers import DistilBertTokenizer, DistilBertForSequenceClassification\n",
    "import re\n",
    "import os\n",
    "import pandas as pd \n",
    "from spellchecker import SpellChecker"
   ]
  },
  {
   "cell_type": "code",
   "execution_count": 49,
   "metadata": {},
   "outputs": [],
   "source": [
    "f1_words = [\n",
    "    'Formula', '1', 'F1', 'constructor', 'championship', 'pole', 'qualifying', 'race', 'driver', 'pitstop',\n",
    "    'lap', 'sector', 'tyre', 'pit', 'team', 'engine', 'circuit', 'track', 'chassis', 'brake', 'pitlane', 'grid',\n",
    "    'points', 'podium', 'winner', 'fastest', 'lap-time', 'team-mate', 'strategy', 'pit-crew', 'mechanic', 'team-principal',\n",
    "    'season', 'constructor-standings', 'driver-standings', 'constructor-championship', 'world-champion', 'driver-champion',\n",
    "    'red-bull', 'mercedes', 'ferrari', 'mclaren', 'renault', 'alpine', 'aston-martin', 'williams', 'haas', 'alphatauri',\n",
    "    'alfa-romeo', 'jaguar', 'benetton', 'tyrrell', 'minardi', 'lotus', 'brabham', 'march', 'matra', 'sauber', 'brundle',\n",
    "    'schumacher', 'hamilton', 'verstappen', 'leclerc', 'sainz', 'ricciardo', 'gasly', 'norris', 'albon', 'schumacher',\n",
    "    'rosberg', 'raikkonen', 'vettel', 'webber', 'massa', 'hakkinen', 'hill', 'button', 'fittipaldi', 'prost', 'lauda',\n",
    "    'senna', 'gilles-villeneuve', 'suzuka', 'monza', 'silverstone', 'spa', 'monaco', 'austria', 'hungary', 'belgium', \n",
    "    'france', 'germany', 'brazil', 'canada', 'italy', 'singapore', 'china', 'azerbaijan', 'russia', 'turkey', 'mexico',\n",
    "    'saudi-arabia', 'emilia-romagna', 'portugal', 'dutch', 'bahrain', 'japan', 'united-states', 'abu-dhabi', 'australian',\n",
    "    'french', 'spain', 'world-title', 'rookie', 'podium-finish', 'team-order',\n",
    "    'drs', 'ferrari-boost', 'pit-window', 'fuel-load', 'tire-degradation', 'cold-tires', 'hot-tires', 'braking-zone',\n",
    "    'track-limits', 'safety-car', 'virtual-safety-car', 'yellow-flag', 'red-flag', 'blue-flag', 'green-flag', 'racecraft',\n",
    "    'lap-record', 'qualifying-position', 'front-row', 'backmarker', 'grid-position', 'overtake', 'undercut', 'overcut',\n",
    "    'laps-completed', 'engine-mode', 'fuel-consumption', 'energy-recovery', 'brake-balance', 'team-radio', 'race-strategy',\n",
    "    'pit-stop-strategy', 'tire-compound', 'wet-weather', 'dry-weather', 'mixed-conditions', 'intermediates', 'full-wet',\n",
    "    'dry-tyres', 'hard-tyres', 'medium-tyres', 'soft-tyres', 'ultra-soft', 'super-soft', 'race-control', 'pit-in', 'pit-out',\n",
    "    'track-position', 'push-lap', 'cool-down-lap', 'team-messages', 'fast-lap', 'short-lap', 'clutch', 'wheel-spin', 'driving-style',\n",
    "    'aero-package', 'suspension', 'brake-ducts', 'front-wing', 'rear-wing', 'diffuser', 'airflow', 'engine-mapping', 'exhausts',\n",
    "    'traction-control', 'ABS', 'carbon-fiber', 'weight-distribution', 'g-forces', 'chassis-tuning', 'pit-crew', 'driver-swap',\n",
    "    'safety-cell', 'carbon-composite', 'drivers-briefing', 'pre-season-testing', 'race-weekend', 'practice-session',\n",
    "    'free-practice', 'qualifying-session', 'pit-stop-strategy', 'race-schedule', 'constructor-standings', 'driver-standings',\n",
    "    'grid-girls', 'fan-festival', 'motorsport', 'simulator', 'team-radio', 'virtual-race', 'esports',\n",
    "    'pit-wall', 'racetrack', 'broadcast', 'team-rival', 'driver-fitness', 'track-circuit', 'track-record', 'double-points',\n",
    "    'sprint-race', 'driving-test', 'safety-standard', 'yellow-flag', 'pit-exit', 'brake-checks', 'race-win', 'championship-lead',\n",
    "    'tires', 'podium-position', 'race-lap', 'championship-points', 'fast-lap', 'qualification', 'track-record'\n",
    "]\n"
   ]
  },
  {
   "cell_type": "code",
   "execution_count": null,
   "metadata": {},
   "outputs": [
    {
     "name": "stdout",
     "output_type": "stream",
     "text": [
      "who no the constructor chmpoinshp en 2016 ?\n"
     ]
    }
   ],
   "source": [
    "spell = SpellChecker()\n",
    "\n",
    "spell.word_frequency.load_words(f1_words)\n",
    "\n",
    "def correct_text(text):\n",
    "    words = text.split()\n",
    "    corrected_words = [spell.correction(word) if spell.correction(word) is not None else word for word in words]\n",
    "    return ' '.join(corrected_words)\n",
    "\n",
    "question = \"Woh wno hte costructor chmpoinshp en 2016 ?\"\n",
    "corrected_question = correct_text(question)\n",
    "print(corrected_question)"
   ]
  },
  {
   "cell_type": "code",
   "execution_count": 12,
   "metadata": {},
   "outputs": [
    {
     "data": {
      "text/plain": [
       "DistilBertForSequenceClassification(\n",
       "  (distilbert): DistilBertModel(\n",
       "    (embeddings): Embeddings(\n",
       "      (word_embeddings): Embedding(30522, 768, padding_idx=0)\n",
       "      (position_embeddings): Embedding(512, 768)\n",
       "      (LayerNorm): LayerNorm((768,), eps=1e-12, elementwise_affine=True)\n",
       "      (dropout): Dropout(p=0.1, inplace=False)\n",
       "    )\n",
       "    (transformer): Transformer(\n",
       "      (layer): ModuleList(\n",
       "        (0-5): 6 x TransformerBlock(\n",
       "          (attention): DistilBertSdpaAttention(\n",
       "            (dropout): Dropout(p=0.1, inplace=False)\n",
       "            (q_lin): Linear(in_features=768, out_features=768, bias=True)\n",
       "            (k_lin): Linear(in_features=768, out_features=768, bias=True)\n",
       "            (v_lin): Linear(in_features=768, out_features=768, bias=True)\n",
       "            (out_lin): Linear(in_features=768, out_features=768, bias=True)\n",
       "          )\n",
       "          (sa_layer_norm): LayerNorm((768,), eps=1e-12, elementwise_affine=True)\n",
       "          (ffn): FFN(\n",
       "            (dropout): Dropout(p=0.1, inplace=False)\n",
       "            (lin1): Linear(in_features=768, out_features=3072, bias=True)\n",
       "            (lin2): Linear(in_features=3072, out_features=768, bias=True)\n",
       "            (activation): GELUActivation()\n",
       "          )\n",
       "          (output_layer_norm): LayerNorm((768,), eps=1e-12, elementwise_affine=True)\n",
       "        )\n",
       "      )\n",
       "    )\n",
       "  )\n",
       "  (pre_classifier): Linear(in_features=768, out_features=768, bias=True)\n",
       "  (classifier): Linear(in_features=768, out_features=10, bias=True)\n",
       "  (dropout): Dropout(p=0.2, inplace=False)\n",
       ")"
      ]
     },
     "execution_count": 12,
     "metadata": {},
     "output_type": "execute_result"
    }
   ],
   "source": [
    "# Dataset folder path (general)\n",
    "current_dir = os.getcwd() \n",
    "dataset_path = os.path.join(current_dir, \"F1 Datasets\")\n",
    "\n",
    "# List of CSV files in the dataset\n",
    "csv_files = [\n",
    "    \"results.csv\", \"seasons.csv\", \"sprint_results.csv\", \"status.csv\", \"constructor_standings.csv\", \n",
    "    \"constructors.csv\", \"driver_standings.csv\", \"drivers.csv\", \"lap_times.csv\", \"pit_stops.csv\", \n",
    "    \"qualifying.csv\", \"races.csv\", \"circuits.csv\", \"constructor_results.csv\"\n",
    "]\n",
    "\n",
    "def load_and_explore () :\n",
    "    dataframes = {}\n",
    "    for file in csv_files : \n",
    "        file_path = os.path.join(dataset_path, file)\n",
    "        df = pd.read_csv(file_path)\n",
    "        dataframes[file] = df # Storing DataFrame for later use\n",
    "    return dataframes\n",
    "\n",
    "# Load Datasets \n",
    "datasets = load_and_explore()\n",
    "\n",
    "# Load trained model and tokenizer\n",
    "model_path = \"intent_classifier_model\"\n",
    "tokenizer = DistilBertTokenizer.from_pretrained(model_path)\n",
    "model = DistilBertForSequenceClassification.from_pretrained(model_path)\n",
    "model.eval()"
   ]
  },
  {
   "cell_type": "code",
   "execution_count": 14,
   "metadata": {},
   "outputs": [],
   "source": [
    "# Mapping labels back to intents\n",
    "labels = [\n",
    "    'get_teams_in_year',\n",
    "    'get_driver_wins',\n",
    "    'get_championship_winner',\n",
    "    'get_driver_with_most_wins',\n",
    "    'get_constructors_championship',\n",
    "    'get_race_winners_in_year',\n",
    "    'get_championship_runner_up',\n",
    "    'get_drivers_with_multiple_titles',\n",
    "    'get_driver_with_most_poles',\n",
    "    'get_car_in_season']\n",
    "#10 Labels for now"
   ]
  },
  {
   "cell_type": "code",
   "execution_count": null,
   "metadata": {},
   "outputs": [],
   "source": [
    "# Define query structure\n",
    "class Query(BaseModel):\n",
    "    question: str\n",
    "    \n",
    "# Function to predict intent\n",
    "def predict_intent(question: str):\n",
    "    encoding = tokenizer(question, return_tensors=\"pt\", padding=True, truncation=True, max_length=128)\n",
    "    outputs = model(**encoding)\n",
    "    logits = outputs.logits\n",
    "    probabilities = torch.nn.functional.softmax(logits, dim=-1)  # Convert logits to probabilities\n",
    "    # Get the predicted intent and confidence\n",
    "    confidence, predicted_class = torch.max(probabilities, dim=-1)\n",
    "    predicted_intent = str(predicted_class.item())  # Convert predicted class to string\n",
    "    #predicted_label = torch.argmax(logits, dim=-1).item()\n",
    "    print(logits)\n",
    "    print(f\"Confidence :  {confidence}\")\n",
    "    #return labels[predicted_intent]\n",
    "    return {\"intent\": labels[int(predicted_intent)], \"confidence\": confidence.item()}\n"
   ]
  },
  {
   "cell_type": "code",
   "execution_count": 35,
   "metadata": {},
   "outputs": [],
   "source": [
    "# Extract year from question (basic regex, can improve later)\n",
    "def extract_year(question: str):\n",
    "    match = re.search(r\"\\b(19\\d{2}|20\\d{2})\\b\", question)\n",
    "    return int(match.group()) if match else None"
   ]
  },
  {
   "cell_type": "code",
   "execution_count": 39,
   "metadata": {},
   "outputs": [],
   "source": [
    "def get_intent(question):\n",
    "    corrected_question = question  # for now (correct_text(question))\n",
    "    intent = predict_intent(corrected_question)\n",
    "    year = extract_year(corrected_question)\n",
    "    response = \"Sorry, I couldn't find an answer.\"\n",
    "\n",
    "    if intent == \"get_championship_winner\" and year:\n",
    "        response = get_championship_winner(year, datasets['driver_standings.csv'], datasets['races.csv'], datasets['drivers.csv'])\n",
    "    elif intent == \"get_teams_in_year\" and year:\n",
    "        response = get_teams_in_year(year, datasets['results.csv'], datasets['races.csv'], datasets['constructors.csv'])\n",
    "    elif intent == \"get_driver_wins\":\n",
    "        driver_name = corrected_question.replace(\"How many wins does\", \"\").replace(\"have?\", \"\").strip()\n",
    "        response = get_driver_wins(driver_name, datasets['results.csv'], datasets['drivers.csv'])\n",
    "    elif intent == \"get_driver_with_most_wins\":\n",
    "        response = get_driver_with_most_wins(datasets['results.csv'], datasets['drivers.csv'])\n",
    "    else :\n",
    "        response = str(intent)\n",
    "\n",
    "    return {\"intent\": intent, \"response\": response, \"corrected_question\": corrected_question  }# Show corrected text"
   ]
  },
  {
   "cell_type": "code",
   "execution_count": 52,
   "metadata": {},
   "outputs": [
    {
     "name": "stdout",
     "output_type": "stream",
     "text": [
      "who no the constructor chmpoinshp en 2016 ?\n",
      "tensor([[-1.3505,  0.1528, -1.3272, -3.2397,  1.9506, -1.7492, -0.1265, -2.8155,\n",
      "         -1.6093,  2.2160]], grad_fn=<AddmmBackward0>)\n",
      "Confidence :  tensor([0.4765], grad_fn=<MaxBackward0>)\n"
     ]
    },
    {
     "data": {
      "text/plain": [
       "{'intent': {'intent': 'get_car_in_season', 'confidence': 0.47645577788352966},\n",
       " 'response': \"{'intent': 'get_car_in_season', 'confidence': 0.47645577788352966}\",\n",
       " 'corrected_question': 'Woh wno hte costructor chmpoinshp en 2016 ?'}"
      ]
     },
     "execution_count": 52,
     "metadata": {},
     "output_type": "execute_result"
    }
   ],
   "source": [
    "question1 = \"who won the 2023 driver championship ?\"\n",
    "question2 = \"who were the teams competing in the 2015 season ?\"\n",
    "question3 = \"which car did mercedes use in 2020 ?\"\n",
    "question4 = \"Who won the constructors championship in 2016 ?\"\n",
    "question = \"Woh wno hte costructor chmpoinshp en 2016 ?\"\n",
    "question_corr = correct_text(question)\n",
    "print(question_corr)\n",
    "get_intent(question)"
   ]
  }
 ],
 "metadata": {
  "kernelspec": {
   "display_name": "Python 3",
   "language": "python",
   "name": "python3"
  },
  "language_info": {
   "codemirror_mode": {
    "name": "ipython",
    "version": 3
   },
   "file_extension": ".py",
   "mimetype": "text/x-python",
   "name": "python",
   "nbconvert_exporter": "python",
   "pygments_lexer": "ipython3",
   "version": "3.12.4"
  }
 },
 "nbformat": 4,
 "nbformat_minor": 2
}
